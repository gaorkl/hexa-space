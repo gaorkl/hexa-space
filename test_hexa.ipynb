{
 "cells": [
  {
   "cell_type": "code",
   "execution_count": 4,
   "metadata": {
    "collapsed": true
   },
   "outputs": [
    {
     "name": "stdout",
     "output_type": "stream",
     "text": [
      "2020.4962950871159\n"
     ]
    }
   ],
   "source": [
    "from collections import namedtuple\n",
    "import time\n",
    "from hexa_world.hexa_world import ActionSampler, HexaWorld\n",
    "\n",
    "\n",
    "hexa = HexaWorld(30, range_observation=5)\n",
    "action_sampler = ActionSampler(4)\n",
    "\n",
    "\n",
    "dataset = []\n",
    "\n",
    "DataPoint = namedtuple('DataPoint', ['position', 'a', 'o'])\n",
    "\n",
    "t_start = time.time()\n",
    "for step in range( int(2e5)):\n",
    "    angle, forward = action_sampler.sample()\n",
    "    pos = hexa.agent.position\n",
    "    \n",
    "    obs, rew, done = hexa.step(angle, forward)\n",
    "    \n",
    "    point = DataPoint(pos, [angle, forward], obs)\n",
    "    \n",
    "    dataset.append(point)\n",
    "        \n",
    "\n",
    "print( 2e5/(time.time() - t_start))"
   ]
  },
  {
   "cell_type": "code",
   "execution_count": 3,
   "metadata": {},
   "outputs": [
    {
     "data": {
      "text/plain": [
       "<matplotlib.image.AxesImage at 0x7ff400dda828>"
      ]
     },
     "execution_count": 3,
     "metadata": {},
     "output_type": "execute_result"
    },
    {
     "data": {
      "image/png": "[encoded data removed]",
      "text/plain": [
       "<Figure size 432x288 with 1 Axes>"
      ]
     },
     "metadata": {},
     "output_type": "display_data"
    }
   ],
   "source": [
    "import matplotlib.pyplot as plt\n",
    "import numpy as np\n",
    "\n",
    "vis = np.zeros((30,30))\n",
    "\n",
    "for pt in dataset:\n",
    "    vis[pt.position[0], pt.position[1]] += 1\n",
    "    \n",
    "plt.imshow(vis)"
   ]
  },
  {
   "cell_type": "code",
   "execution_count": 32,
   "metadata": {},
   "outputs": [
    {
     "name": "stdout",
     "output_type": "stream",
     "text": [
      "([1.5663041272762213, 0.0, 0.0, 0.0, 0.0, 0.0, 0.0, 0.0, 0.0, 0.0, 0.0, 1.4633084060830779, 0.0, 1.4409863707754886, 0.0, 0.0, 0.0, 0.0, 0.0, 1.363498480756083, 1.652022888859229, 0.0, 0.0, 0.0, 0.0, 0.0, 0.0, 1.453476054411183, 0.0, 0.0, 0.0, 0.0, 0.0, 0.0, 0.0], 0, False)\n"
     ]
    }
   ],
   "source": [
    "obs = hexa.step(0,1)\n",
    "print(obs)"
   ]
  },
  {
   "cell_type": "code",
   "execution_count": 37,
   "metadata": {},
   "outputs": [
    {
     "name": "stdout",
     "output_type": "stream",
     "text": [
      "X X X X X X X X X X X X X X X X X X X X X X X X X X X X X X X \n X ⚬ ⚬ ⚬ ⚬ ⚬ ⚬ ⚬ ⚬ ⚬ ⚬ ⚬ ■ ■ ■ ■ ⚬ ⚬ X ■ ■ ⚬ ⚬ ■ ■ ■ ⚬ ⚬ ■ X X \nX ■ ⚬ X ⚬ ⚬ X ⚬ ⚬ ⚬ ⬁ X ⚬ ⚬ ⚬ ⚬ ⇨ ⚬ ⚬ ⚬ ⚬ ⚬ ⬁ ⚬ ⚬ ⚬ ⚬ ⚬ ⚬ ■ X \n X ⚬ ⚬ ⚬ ⚬ ⚬ ⚬ ⚬ ⚬ X ⚬ ⚬ ⚬ ⚬ ⚬ ⚬ ⚬ ⚬ ⬂ ⚬ ⚬ ⚬ ⚬ ⚬ ⚬ ⚬ ⚬ ⚬ ⚬ ■ X \nX ⚬ ⚬ ⚬ ⚬ X ■ ⚬ ⚬ ⚬ ⚬ ⚬ ⚬ ⚬ ⚬ ⚬ ⚬ ⚬ ⬂ ⚬ ⚬ ⚬ ⚬ ⚬ ⚬ ⚬ ⚬ ⚬ ⚬ ⚬ X \n X ⚬ ⚬ ⚬ ⚬ ■ X ⬁ ⚬ ⚬ ⚬ ⚬ ⚬ ⚬ ⚬ ⚬ ⚬ ⚬ ⚬ ⚬ ⚬ ⚬ ⚬ ⚬ ⬋ ⚬ ⚬ ⚬ ⚬ ⚬ X \nX ■ ⚬ ⚬ ⚬ ⚬ ⚬ ⚬ ⚬ ⚬ ⚬ ⚬ ⚬ ⚬ ⚬ ⚬ ⚬ ⚬ ⚬ ⚬ ⚬ ⚬ ⚬ ⚬ ⚬ ⬁ X ⚬ ⚬ ⚬ X \n X ⚬ ⬀ ⚬ ⚬ ⚬ ⚬ ⚬ ⚬ ⚬ ⚬ ⚬ ⚬ X ⚬ ⚬ X ⚬ ⚬ ⚬ ⚬ ⚬ ⚬ ⚬ ⚬ ⚬ ⚬ ⚬ ⚬ ■ X \nX ■ ⚬ ⚬ ⚬ ⚬ ⚬ ⚬ ⚬ ⇨ ⚬ ⚬ ⚬ ⚬ ⚬ ⚬ ⚬ ⚬ ⚬ ⚬ ⚬ ⚬ ⚬ ⚬ ⚬ ⚬ ⚬ ⚬ ⚬ ■ X \n X ⚬ ⚬ ⚬ ⚬ ⚬ ⚬ ⚬ ⚬ ⚬ ⬁ ⚬ ⚬ ⚬ ⚬ ⚬ ⚬ ⇦ ⚬ ⚬ ⚬ ⇦ ⚬ ⚬ ⚬ ⚬ ⚬ ⚬ ⚬ ■ X \nX ⚬ ⚬ ⚬ ⚬ ⚬ ⚬ ⚬ ⚬ ⚬ ⚬ ⚬ X ⚬ ⚬ ⚬ ⚬ X ⚬ ⚬ ⚬ X ⚬ ⚬ ⚬ ⚬ ⚬ ⚬ ⚬ ⬂ X \n X ⚬ ⚬ ⚬ ⚬ ⚬ ⚬ ⚬ ⚬ ⚬ ⚬ ⚬ X ⚬ ⚬ ⚬ ⚬ ⚬ ⚬ ⚬ ⚬ ⚬ ⬂ ⚬ ⬂ ⚬ ⚬ ⚬ ⚬ ■ X \nX ⚬ ⚬ ⚬ ⚬ ⬂ ⚬ ⚬ ⚬ ⚬ ⚬ ⚬ ⚬ ⚬ ⚬ ⚬ ⚬ ⚬ ⚬ ⚬ ⚬ ⚬ ⬃ ⚬ ⚬ X ⚬ ⚬ ⬃ ⚬ X \n X ⚬ ⚬ ⚬ ⚬ ⚬ ⚬ ⚬ ⚬ ⚬ ⚬ ⚬ ⚬ X ⚬ ⚬ ⚬ ⚬ ⚬ ⚬ ⚬ ⚬ ⚬ ⚬ ⚬ ⚬ ⚬ ⚬ ⚬ ⚬ X \nX ⚬ ⚬ ⚬ ⚬ ⚬ ⚬ ⇨ ⚬ ⚬ ⚬ X ⚬ ⚬ ⚬ ⚬ ⬁ ⚬ ⚬ ⚬ ⚬ ⚬ ⚬ ⚬ ⚬ ⚬ ⚬ ⚬ ⚬ ⚬ X \n X ⚬ ⚬ ⚬ ⚬ X ⚬ ⬀ ⚬ ⚬ ⚬ ⚬ ⚬ ⚬ ⚬ X ⚬ ⚬ ⚬ X ⚬ ⚬ X ⚬ ⚬ ⚬ ⚬ ⚬ ⚬ X X \nX ⚬ ⚬ ⚬ ⇦ ⚬ ⚬ ⚬ ⚬ ⚬ ⚬ ⚬ ⚬ ⇨ ⬀ ⇨ ⚬ ⚬ ⚬ ⚬ ⚬ ⚬ ⚬ ⚬ ⚬ ⚬ ⚬ ⚬ ⚬ ■ X \n X ⚬ ⚬ ⚬ ⚬ ⚬ ⚬ ⚬ ⚬ ⚬ ⚬ ⚬ X ⚬ ⚬ ⚬ ⚬ ⚬ X ⚬ ⚬ ⚬ ⚬ ⬃ ⚬ ⚬ ⇨ ⚬ ⚬ ■ X \nX ⚬ ⚬ ⚬ ⚬ ⚬ ⚬ ⚬ ⚬ X ⚬ ⚬ ⚬ ⇦ ⚬ ⚬ ⇦ ⚬ ⚬ ⚬ ⚬ ⚬ X ⚬ ⚬ ⚬ ⚬ X ⚬ ■ X \n X ⚬ ⚬ ⚬ ⚬ ⚬ ⚬ ⚬ ⚬ ⚬ ⚬ ⚬ ⚬ ⚬ X ⚬ ⚬ ⇨ ⚬ ⚬ ⚬ ⚬ ⚬ ⚬ ⚬ ⚬ ⚬ X ⚬ ■ X \nX ⬁ ⚬ X ⚬ ⚬ ⚬ ⚬ ⚬ ⚬ ⚬ ⚬ ⚬ ⚬ ⚬ ⬃ ⚬ ⚬ ⚬ ⚬ ⚬ ⬂ ⇦ ⚬ ⚬ ⚬ ⚬ ⚬ ⚬ ⚬ X \n X ⚬ ⚬ ⚬ ⚬ ⚬ ⚬ ⚬ ⚬ ⚬ ⚬ X ⚬ ⚬ ⚬ ⚬ ⚬ ⚬ ⚬ ⚬ ⚬ ⚬ ⚬ ⚬ ⚬ ⚬ ⚬ ⚬ ⚬ ■ X \nX ⚬ ⚬ ⚬ ⚬ ⚬ ⚬ ⚬ ⚬ ⚬ ⚬ ⚬ ⚬ ⚬ ⚬ ⚬ ⚬ ⚬ ⚬ ⚬ ⚬ ⚬ ⚬ ⚬ ⚬ ⚬ ⚬ ⚬ ⚬ ⚬ X \n X ⚬ ⚬ ⚬ ⚬ ⚬ ⚬ ⚬ ⚬ ⚬ ⚬ ⚬ ⚬ ⚬ ⬃ X ⚬ ⚬ ⚬ ⚬ ⬃ ⚬ ⚬ ⚬ ⚬ ⚬ ⚬ ⚬ ⚬ ⚬ X \nX ■ ⚬ ⚬ ⚬ ⚬ ⚬ ⚬ ⚬ X ⚬ ⚬ ⚬ ⚬ ⚬ ⚬ ⚬ ⚬ ⚬ ⚬ ⚬ ⚬ ⚬ ⚬ ⬀ ⚬ ⚬ ⚬ ⚬ ⚬ X \n X ⚬ ⚬ ⚬ ⚬ ⚬ ⬃ ⚬ ⚬ ⚬ ⚬ ⚬ ⚬ ⚬ ⚬ ⚬ ⚬ ⚬ ⚬ ⚬ ⚬ ⚬ ⚬ ⚬ ⚬ ⚬ ⚬ ⚬ ⚬ ⚬ X \nX ⚬ ⚬ ⚬ ⚬ ⚬ ⚬ ⚬ ⚬ ⚬ X ⚬ ⬂ ⚬ X ⚬ ⚬ ⚬ X X ⚬ ⚬ ⚬ ⚬ ⚬ ⚬ ⚬ ⚬ ⚬ ⚬ X \n X ⇨ ⚬ ⚬ ⬁ ⚬ ⚬ ⚬ ⚬ ⚬ ⚬ ⚬ ⚬ ⚬ ⚬ ⚬ ⚬ ⇦ ⚬ ⚬ ⚬ ⚬ ⚬ ⚬ ⚬ ⚬ ⚬ ⚬ ⬁ ■ X \nX ⇦ X ■ ⚬ ⚬ ⚬ ⚬ ⚬ ⚬ ⚬ ⚬ ⚬ ⚬ ⚬ ⚬ ⚬ ⚬ ⚬ ⚬ ⚬ X ⚬ ⚬ ⚬ ⚬ ⚬ ⚬ ⚬ ⚬ X \n X ⚬ ■ ■ ■ ⚬ ⚬ ⚬ ⚬ ■ X ■ ■ ⇦ ⚬ ⚬ ⚬ ⚬ ⚬ ⚬ ■ ■ ⚬ ■ ■ X ⚬ ■ ■ ■ X \nX X X X X X X X X X X X X X X X X X X X X X X X X X X X X X X \n\n"
     ]
    }
   ],
   "source": [
    "obs = hexa.step(0,0)\n",
    "print(hexa)"
   ]
  },
  {
   "cell_type": "code",
   "execution_count": 38,
   "metadata": {},
   "outputs": [
    {
     "name": "stdout",
     "output_type": "stream",
     "text": [
      "[0.0, 0.0, 1.4409863707754886, 0.0, 0.0, 0.0, 0.0, 0.0, 0.0, 0.0, 0.0, 0.0, 0.0, 0.0, 0.0, 0.0, 0.0, 0.0, 0.0, 0.0, 0.0, 0.0, 0.0, 0.0, 0.0, 0.0, 0.0, 0.0, 1.363498480756083, 0.0, 0.0, 0.0, 0.0, 0.0, 0.0]\n"
     ]
    }
   ],
   "source": [
    "print(hexa.observe())"
   ]
  },
  {
   "cell_type": "code",
   "execution_count": null,
   "metadata": {},
   "outputs": [],
   "source": []
  }
 ],
 "metadata": {
  "kernelspec": {
   "display_name": "Python 3",
   "language": "python",
   "name": "python3"
  },
  "language_info": {
   "codemirror_mode": {
    "name": "ipython",
    "version": 3
   },
   "file_extension": ".py",
   "mimetype": "text/x-python",
   "name": "python",
   "nbconvert_exporter": "python",
   "pygments_lexer": "ipython3",
   "version": "3.6.9"
  }
 },
 "nbformat": 4,
 "nbformat_minor": 2
}
